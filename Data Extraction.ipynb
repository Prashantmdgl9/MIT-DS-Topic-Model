{
 "cells": [
  {
   "cell_type": "code",
   "execution_count": null,
   "metadata": {
    "collapsed": true
   },
   "outputs": [],
   "source": [
    "#Data Extraction\n"
   ]
  },
  {
   "cell_type": "code",
   "execution_count": null,
   "metadata": {
    "collapsed": true
   },
   "outputs": [],
   "source": [
    "html_docs = ['https://arxiv.org:443/find/all/1/au:+Broderick_Tamara/0/1/0/all/0/1', \n",
    "             'https://arxiv.org:443/find/all/1/au:+Jegelka_Stefanie/0/1/0/all/0/1']"
   ]
  },
  {
   "cell_type": "code",
   "execution_count": null,
   "metadata": {
    "collapsed": true
   },
   "outputs": [],
   "source": [
    "from bs4 import BeautifulSoup\n",
    "import requests\n",
    "#page = requests.get(html_doc)\n",
    "#soup = BeautifulSoup(page.text, 'html.parser')\n",
    "base_String = 'https://arxiv.org/abs/'\n",
    "URL_Array = []\n",
    "\n",
    "for doc in html_docs:\n",
    "    page = requests.get(doc)\n",
    "    soup = BeautifulSoup(page.text, 'html.parser')\n",
    "    #Checking whether this works or not\n",
    "    #print(soup.prettify())\n",
    "    #Finally working!\n",
    "    find_tags = soup.find_all(class_='list-identifier')\n",
    "    for f in find_tags:\n",
    "        tag_items = f.find_all('a')\n",
    "        to_append = tag_items[0].contents[0]\n",
    "        url = []\n",
    "        url = base_String + to_append[6:] \n",
    "        URL_Array.append(url)\n",
    "    "
   ]
  },
  {
   "cell_type": "code",
   "execution_count": null,
   "metadata": {
    "collapsed": true
   },
   "outputs": [],
   "source": [
    "abstracts = []\n",
    "for url in URL_Array:\n",
    "        abstract_page = requests.get(url)\n",
    "        soup_sub = BeautifulSoup(abstract_page.text, 'html.parser')\n",
    "        findText = soup_sub.find('blockquote').get_text()\n",
    "        abstracts.append(findText)"
   ]
  },
  {
   "cell_type": "code",
   "execution_count": null,
   "metadata": {
    "collapsed": true
   },
   "outputs": [],
   "source": [
    "thefile = open('abstractsMIT.txt', 'w')\n",
    "for item in abstracts:\n",
    "    thefile.write(item)"
   ]
  },
  {
   "cell_type": "code",
   "execution_count": null,
   "metadata": {
    "collapsed": true
   },
   "outputs": [],
   "source": []
  },
  {
   "cell_type": "code",
   "execution_count": null,
   "metadata": {
    "collapsed": true
   },
   "outputs": [],
   "source": []
  },
  {
   "cell_type": "code",
   "execution_count": null,
   "metadata": {
    "collapsed": true
   },
   "outputs": [],
   "source": []
  },
  {
   "cell_type": "code",
   "execution_count": null,
   "metadata": {
    "collapsed": true
   },
   "outputs": [],
   "source": []
  }
 ],
 "metadata": {
  "kernelspec": {
   "display_name": "Python 3",
   "language": "python",
   "name": "python3"
  },
  "language_info": {
   "codemirror_mode": {
    "name": "ipython",
    "version": 3
   },
   "file_extension": ".py",
   "mimetype": "text/x-python",
   "name": "python",
   "nbconvert_exporter": "python",
   "pygments_lexer": "ipython3",
   "version": "3.6.1"
  }
 },
 "nbformat": 4,
 "nbformat_minor": 2
}
